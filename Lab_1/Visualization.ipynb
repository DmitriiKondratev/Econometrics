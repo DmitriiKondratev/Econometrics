{
 "cells": [
  {
   "cell_type": "markdown",
   "metadata": {},
   "source": [
    "# Визуализация эксперимента"
   ]
  },
  {
   "cell_type": "code",
   "execution_count": 109,
   "metadata": {},
   "outputs": [],
   "source": [
    "import sys\n",
    "import numpy as np\n",
    "import matplotlib.pyplot as plt"
   ]
  },
  {
   "cell_type": "code",
   "execution_count": 61,
   "metadata": {},
   "outputs": [],
   "source": [
    "def write(file, t, X):\n",
    "    f = open(file, 'w')\n",
    "    f.write(str(len(t)) + '\\n')\n",
    "    f.write(\"T = \" + np.array2string(t, max_line_width =sys.maxsize) + '\\n')\n",
    "    f.write(\"X = \" + np.array2string(X, max_line_width =sys.maxsize) + '\\n')\n",
    "    f.close()\n",
    "\n",
    "    \n",
    "# def read(file):\n",
    "#     f = open(file, 'r')\n",
    "#     f.write(str(len(t)) + '\\n')\n",
    "#     f.write(\"T = \" + np.array2string(t, max_line_width =sys.maxsize) + '\\n')\n",
    "#     f.write(\"X = \" + np.array2string(X, max_line_width =sys.maxsize) + '\\n')\n",
    "#     f.close()\n",
    "\n",
    "\n",
    "def g(b,t):\n",
    "    return b[0]+ b[1]*t + b[2]*t**2 + b[3]*t**3\n",
    "\n",
    "\n",
    "\n",
    "def eps(mu, sigma, t):\n",
    "    return np.random.normal(mu, sigma, len(t))"
   ]
  },
  {
   "cell_type": "code",
   "execution_count": 86,
   "metadata": {},
   "outputs": [
    {
     "name": "stdout",
     "output_type": "stream",
     "text": [
      "[-0.02205348 -0.01272024  0.05127149  0.15238444 -0.12203357 -0.07714552\n",
      " -0.05524425 -0.06595593 -0.01731124 -0.10771572 -0.0027213   0.06057636\n",
      "  0.18285813  0.03171547 -0.051841    0.03067747 -0.06875567  0.05654964\n",
      " -0.27169905 -0.04068957 -0.14889737 -0.14372534 -0.02081606  0.14011101\n",
      " -0.19408834  0.11782334 -0.08916378  0.04278517  0.01701313 -0.02427998\n",
      "  0.13742929 -0.11255482  0.00452952  0.01182159  0.04965131 -0.08184153\n",
      " -0.03332293  0.02875097  0.05489389 -0.09545302  0.05875317 -0.01382582\n",
      " -0.12423887 -0.00800036 -0.01526915 -0.20199533 -0.04921761  0.0183134\n",
      "  0.00303986  0.16670361]\n"
     ]
    }
   ],
   "source": [
    "mu = 0\n",
    "sigma = 0.1\n",
    "b = [2, 7, -6, 1.3]\n",
    "\n",
    "t = np.linspace(0, 3, 50)\n",
    "G = np.array(list(map(lambda x: g(b,x), t)))\n",
    "epsilon = eps(mu, sigma, t)\n",
    "print(epsilon)\n",
    "X = G + epsilon"
   ]
  },
  {
   "cell_type": "code",
   "execution_count": 117,
   "metadata": {},
   "outputs": [
    {
     "data": {
      "image/png": "[encoded data removed]",
      "text/plain": [
       "<Figure size 432x288 with 1 Axes>"
      ]
     },
     "metadata": {
      "needs_background": "light"
     },
     "output_type": "display_data"
    }
   ],
   "source": [
    "fig = plt.subplot()\n",
    "fig.plot(t,G)\n",
    "fig.scatter(t, X, marker='*', color='r')\n",
    "plt.show()"
   ]
  },
  {
   "cell_type": "code",
   "execution_count": 115,
   "metadata": {},
   "outputs": [],
   "source": [
    "write('input.txt', t, X)"
   ]
  },
  {
   "cell_type": "code",
   "execution_count": null,
   "metadata": {},
   "outputs": [],
   "source": []
  }
 ],
 "metadata": {
  "kernelspec": {
   "display_name": "Python 3",
   "language": "python",
   "name": "python3"
  },
  "language_info": {
   "codemirror_mode": {
    "name": "ipython",
    "version": 3
   },
   "file_extension": ".py",
   "mimetype": "text/x-python",
   "name": "python",
   "nbconvert_exporter": "python",
   "pygments_lexer": "ipython3",
   "version": "3.8.5"
  }
 },
 "nbformat": 4,
 "nbformat_minor": 4
}
